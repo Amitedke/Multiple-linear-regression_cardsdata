{
 "cells": [
  {
   "cell_type": "code",
   "execution_count": 1,
   "id": "e12d07d9",
   "metadata": {},
   "outputs": [],
   "source": [
    "import pandas as pd\n",
    "import numpy as np\n",
    "import seaborn as sns\n",
    "import matplotlib.pyplot as plt\n",
    "%matplotlib inline\n",
    "import os\n",
    "import warnings\n",
    "warnings.filterwarnings('ignore')\n",
    "import pylab as pl"
   ]
  },
  {
   "cell_type": "code",
   "execution_count": 2,
   "id": "b79fcbe4",
   "metadata": {},
   "outputs": [],
   "source": [
    "os.chdir(\"C:\\\\Users\\\\amite\\\\OneDrive\\\\Desktop\\\\New folder\")"
   ]
  },
  {
   "cell_type": "code",
   "execution_count": 3,
   "id": "f264f5cb",
   "metadata": {},
   "outputs": [],
   "source": [
    "df=pd.read_csv(\"C:\\\\Users\\\\amite\\\\OneDrive\\\\Desktop\\\\New folder\\\\FuelConsumption.csv\")"
   ]
  },
  {
   "cell_type": "code",
   "execution_count": 4,
   "id": "84f033a2",
   "metadata": {},
   "outputs": [
    {
     "data": {
      "text/html": [
       "<div>\n",
       "<style scoped>\n",
       "    .dataframe tbody tr th:only-of-type {\n",
       "        vertical-align: middle;\n",
       "    }\n",
       "\n",
       "    .dataframe tbody tr th {\n",
       "        vertical-align: top;\n",
       "    }\n",
       "\n",
       "    .dataframe thead th {\n",
       "        text-align: right;\n",
       "    }\n",
       "</style>\n",
       "<table border=\"1\" class=\"dataframe\">\n",
       "  <thead>\n",
       "    <tr style=\"text-align: right;\">\n",
       "      <th></th>\n",
       "      <th>MODELYEAR</th>\n",
       "      <th>MAKE</th>\n",
       "      <th>MODEL</th>\n",
       "      <th>VEHICLECLASS</th>\n",
       "      <th>ENGINESIZE</th>\n",
       "      <th>CYLINDERS</th>\n",
       "      <th>TRANSMISSION</th>\n",
       "      <th>FUELTYPE</th>\n",
       "      <th>FUELCONSUMPTION_CITY</th>\n",
       "      <th>FUELCONSUMPTION_HWY</th>\n",
       "      <th>FUELCONSUMPTION_COMB</th>\n",
       "      <th>FUELCONSUMPTION_COMB_MPG</th>\n",
       "      <th>CO2EMISSIONS</th>\n",
       "    </tr>\n",
       "  </thead>\n",
       "  <tbody>\n",
       "    <tr>\n",
       "      <th>0</th>\n",
       "      <td>2014</td>\n",
       "      <td>ACURA</td>\n",
       "      <td>ILX</td>\n",
       "      <td>COMPACT</td>\n",
       "      <td>2.0</td>\n",
       "      <td>4</td>\n",
       "      <td>AS5</td>\n",
       "      <td>Z</td>\n",
       "      <td>9.9</td>\n",
       "      <td>6.7</td>\n",
       "      <td>8.5</td>\n",
       "      <td>33</td>\n",
       "      <td>196</td>\n",
       "    </tr>\n",
       "    <tr>\n",
       "      <th>1</th>\n",
       "      <td>2014</td>\n",
       "      <td>ACURA</td>\n",
       "      <td>ILX</td>\n",
       "      <td>COMPACT</td>\n",
       "      <td>2.4</td>\n",
       "      <td>4</td>\n",
       "      <td>M6</td>\n",
       "      <td>Z</td>\n",
       "      <td>11.2</td>\n",
       "      <td>7.7</td>\n",
       "      <td>9.6</td>\n",
       "      <td>29</td>\n",
       "      <td>221</td>\n",
       "    </tr>\n",
       "    <tr>\n",
       "      <th>2</th>\n",
       "      <td>2014</td>\n",
       "      <td>ACURA</td>\n",
       "      <td>ILX HYBRID</td>\n",
       "      <td>COMPACT</td>\n",
       "      <td>1.5</td>\n",
       "      <td>4</td>\n",
       "      <td>AV7</td>\n",
       "      <td>Z</td>\n",
       "      <td>6.0</td>\n",
       "      <td>5.8</td>\n",
       "      <td>5.9</td>\n",
       "      <td>48</td>\n",
       "      <td>136</td>\n",
       "    </tr>\n",
       "    <tr>\n",
       "      <th>3</th>\n",
       "      <td>2014</td>\n",
       "      <td>ACURA</td>\n",
       "      <td>MDX 4WD</td>\n",
       "      <td>SUV - SMALL</td>\n",
       "      <td>3.5</td>\n",
       "      <td>6</td>\n",
       "      <td>AS6</td>\n",
       "      <td>Z</td>\n",
       "      <td>12.7</td>\n",
       "      <td>9.1</td>\n",
       "      <td>11.1</td>\n",
       "      <td>25</td>\n",
       "      <td>255</td>\n",
       "    </tr>\n",
       "    <tr>\n",
       "      <th>4</th>\n",
       "      <td>2014</td>\n",
       "      <td>ACURA</td>\n",
       "      <td>RDX AWD</td>\n",
       "      <td>SUV - SMALL</td>\n",
       "      <td>3.5</td>\n",
       "      <td>6</td>\n",
       "      <td>AS6</td>\n",
       "      <td>Z</td>\n",
       "      <td>12.1</td>\n",
       "      <td>8.7</td>\n",
       "      <td>10.6</td>\n",
       "      <td>27</td>\n",
       "      <td>244</td>\n",
       "    </tr>\n",
       "  </tbody>\n",
       "</table>\n",
       "</div>"
      ],
      "text/plain": [
       "   MODELYEAR   MAKE       MODEL VEHICLECLASS  ENGINESIZE  CYLINDERS  \\\n",
       "0       2014  ACURA         ILX      COMPACT         2.0          4   \n",
       "1       2014  ACURA         ILX      COMPACT         2.4          4   \n",
       "2       2014  ACURA  ILX HYBRID      COMPACT         1.5          4   \n",
       "3       2014  ACURA     MDX 4WD  SUV - SMALL         3.5          6   \n",
       "4       2014  ACURA     RDX AWD  SUV - SMALL         3.5          6   \n",
       "\n",
       "  TRANSMISSION FUELTYPE  FUELCONSUMPTION_CITY  FUELCONSUMPTION_HWY  \\\n",
       "0          AS5        Z                   9.9                  6.7   \n",
       "1           M6        Z                  11.2                  7.7   \n",
       "2          AV7        Z                   6.0                  5.8   \n",
       "3          AS6        Z                  12.7                  9.1   \n",
       "4          AS6        Z                  12.1                  8.7   \n",
       "\n",
       "   FUELCONSUMPTION_COMB  FUELCONSUMPTION_COMB_MPG  CO2EMISSIONS  \n",
       "0                   8.5                        33           196  \n",
       "1                   9.6                        29           221  \n",
       "2                   5.9                        48           136  \n",
       "3                  11.1                        25           255  \n",
       "4                  10.6                        27           244  "
      ]
     },
     "execution_count": 4,
     "metadata": {},
     "output_type": "execute_result"
    }
   ],
   "source": [
    "df.head()"
   ]
  },
  {
   "cell_type": "code",
   "execution_count": 5,
   "id": "e07ac684",
   "metadata": {},
   "outputs": [
    {
     "name": "stdout",
     "output_type": "stream",
     "text": [
      "<class 'pandas.core.frame.DataFrame'>\n",
      "RangeIndex: 1067 entries, 0 to 1066\n",
      "Data columns (total 13 columns):\n",
      " #   Column                    Non-Null Count  Dtype  \n",
      "---  ------                    --------------  -----  \n",
      " 0   MODELYEAR                 1067 non-null   int64  \n",
      " 1   MAKE                      1067 non-null   object \n",
      " 2   MODEL                     1067 non-null   object \n",
      " 3   VEHICLECLASS              1067 non-null   object \n",
      " 4   ENGINESIZE                1067 non-null   float64\n",
      " 5   CYLINDERS                 1067 non-null   int64  \n",
      " 6   TRANSMISSION              1067 non-null   object \n",
      " 7   FUELTYPE                  1067 non-null   object \n",
      " 8   FUELCONSUMPTION_CITY      1067 non-null   float64\n",
      " 9   FUELCONSUMPTION_HWY       1067 non-null   float64\n",
      " 10  FUELCONSUMPTION_COMB      1067 non-null   float64\n",
      " 11  FUELCONSUMPTION_COMB_MPG  1067 non-null   int64  \n",
      " 12  CO2EMISSIONS              1067 non-null   int64  \n",
      "dtypes: float64(4), int64(4), object(5)\n",
      "memory usage: 108.5+ KB\n"
     ]
    }
   ],
   "source": [
    "df.info()"
   ]
  },
  {
   "cell_type": "code",
   "execution_count": 6,
   "id": "3e081a7e",
   "metadata": {},
   "outputs": [],
   "source": [
    "cdf=df[['ENGINESIZE','CYLINDERS','FUELCONSUMPTION_CITY','FUELCONSUMPTION_HWY','FUELCONSUMPTION_COMB','CO2EMISSIONS']]"
   ]
  },
  {
   "cell_type": "code",
   "execution_count": 7,
   "id": "9a138b5a",
   "metadata": {},
   "outputs": [
    {
     "data": {
      "text/plain": [
       "ENGINESIZE              0\n",
       "CYLINDERS               0\n",
       "FUELCONSUMPTION_CITY    0\n",
       "FUELCONSUMPTION_HWY     0\n",
       "FUELCONSUMPTION_COMB    0\n",
       "CO2EMISSIONS            0\n",
       "dtype: int64"
      ]
     },
     "execution_count": 7,
     "metadata": {},
     "output_type": "execute_result"
    }
   ],
   "source": [
    "cdf.isnull().sum()"
   ]
  },
  {
   "cell_type": "code",
   "execution_count": 8,
   "id": "30f34f50",
   "metadata": {},
   "outputs": [
    {
     "data": {
      "text/plain": [
       "Text(0, 0.5, 'CO2 EMISSIONS')"
      ]
     },
     "execution_count": 8,
     "metadata": {},
     "output_type": "execute_result"
    },
    {
     "data": {
      "image/png": "[encoded data removed]",
      "text/plain": [
       "<Figure size 432x288 with 1 Axes>"
      ]
     },
     "metadata": {
      "needs_background": "light"
     },
     "output_type": "display_data"
    }
   ],
   "source": [
    "plt.scatter(cdf.ENGINESIZE,cdf.CO2EMISSIONS,color='blue')\n",
    "plt.xlabel('ENGINE SIZE')\n",
    "plt.ylabel('CO2 EMISSIONS')"
   ]
  },
  {
   "cell_type": "code",
   "execution_count": 9,
   "id": "41761d8a",
   "metadata": {},
   "outputs": [
    {
     "data": {
      "text/html": [
       "<div>\n",
       "<style scoped>\n",
       "    .dataframe tbody tr th:only-of-type {\n",
       "        vertical-align: middle;\n",
       "    }\n",
       "\n",
       "    .dataframe tbody tr th {\n",
       "        vertical-align: top;\n",
       "    }\n",
       "\n",
       "    .dataframe thead th {\n",
       "        text-align: right;\n",
       "    }\n",
       "</style>\n",
       "<table border=\"1\" class=\"dataframe\">\n",
       "  <thead>\n",
       "    <tr style=\"text-align: right;\">\n",
       "      <th></th>\n",
       "      <th>ENGINESIZE</th>\n",
       "      <th>CYLINDERS</th>\n",
       "      <th>FUELCONSUMPTION_CITY</th>\n",
       "      <th>FUELCONSUMPTION_HWY</th>\n",
       "      <th>FUELCONSUMPTION_COMB</th>\n",
       "      <th>CO2EMISSIONS</th>\n",
       "    </tr>\n",
       "  </thead>\n",
       "  <tbody>\n",
       "    <tr>\n",
       "      <th>ENGINESIZE</th>\n",
       "      <td>1.000000</td>\n",
       "      <td>0.934011</td>\n",
       "      <td>0.832225</td>\n",
       "      <td>0.778746</td>\n",
       "      <td>0.819482</td>\n",
       "      <td>0.874154</td>\n",
       "    </tr>\n",
       "    <tr>\n",
       "      <th>CYLINDERS</th>\n",
       "      <td>0.934011</td>\n",
       "      <td>1.000000</td>\n",
       "      <td>0.796473</td>\n",
       "      <td>0.724594</td>\n",
       "      <td>0.776788</td>\n",
       "      <td>0.849685</td>\n",
       "    </tr>\n",
       "    <tr>\n",
       "      <th>FUELCONSUMPTION_CITY</th>\n",
       "      <td>0.832225</td>\n",
       "      <td>0.796473</td>\n",
       "      <td>1.000000</td>\n",
       "      <td>0.965718</td>\n",
       "      <td>0.995542</td>\n",
       "      <td>0.898039</td>\n",
       "    </tr>\n",
       "    <tr>\n",
       "      <th>FUELCONSUMPTION_HWY</th>\n",
       "      <td>0.778746</td>\n",
       "      <td>0.724594</td>\n",
       "      <td>0.965718</td>\n",
       "      <td>1.000000</td>\n",
       "      <td>0.985804</td>\n",
       "      <td>0.861748</td>\n",
       "    </tr>\n",
       "    <tr>\n",
       "      <th>FUELCONSUMPTION_COMB</th>\n",
       "      <td>0.819482</td>\n",
       "      <td>0.776788</td>\n",
       "      <td>0.995542</td>\n",
       "      <td>0.985804</td>\n",
       "      <td>1.000000</td>\n",
       "      <td>0.892129</td>\n",
       "    </tr>\n",
       "    <tr>\n",
       "      <th>CO2EMISSIONS</th>\n",
       "      <td>0.874154</td>\n",
       "      <td>0.849685</td>\n",
       "      <td>0.898039</td>\n",
       "      <td>0.861748</td>\n",
       "      <td>0.892129</td>\n",
       "      <td>1.000000</td>\n",
       "    </tr>\n",
       "  </tbody>\n",
       "</table>\n",
       "</div>"
      ],
      "text/plain": [
       "                      ENGINESIZE  CYLINDERS  FUELCONSUMPTION_CITY  \\\n",
       "ENGINESIZE              1.000000   0.934011              0.832225   \n",
       "CYLINDERS               0.934011   1.000000              0.796473   \n",
       "FUELCONSUMPTION_CITY    0.832225   0.796473              1.000000   \n",
       "FUELCONSUMPTION_HWY     0.778746   0.724594              0.965718   \n",
       "FUELCONSUMPTION_COMB    0.819482   0.776788              0.995542   \n",
       "CO2EMISSIONS            0.874154   0.849685              0.898039   \n",
       "\n",
       "                      FUELCONSUMPTION_HWY  FUELCONSUMPTION_COMB  CO2EMISSIONS  \n",
       "ENGINESIZE                       0.778746              0.819482      0.874154  \n",
       "CYLINDERS                        0.724594              0.776788      0.849685  \n",
       "FUELCONSUMPTION_CITY             0.965718              0.995542      0.898039  \n",
       "FUELCONSUMPTION_HWY              1.000000              0.985804      0.861748  \n",
       "FUELCONSUMPTION_COMB             0.985804              1.000000      0.892129  \n",
       "CO2EMISSIONS                     0.861748              0.892129      1.000000  "
      ]
     },
     "execution_count": 9,
     "metadata": {},
     "output_type": "execute_result"
    }
   ],
   "source": [
    "cdf.corr()"
   ]
  },
  {
   "cell_type": "code",
   "execution_count": 10,
   "id": "918b6da9",
   "metadata": {},
   "outputs": [
    {
     "data": {
      "text/plain": [
       "<AxesSubplot:>"
      ]
     },
     "execution_count": 10,
     "metadata": {},
     "output_type": "execute_result"
    },
    {
     "data": {
      "image/png": "[encoded data removed]",
      "text/plain": [
       "<Figure size 504x504 with 2 Axes>"
      ]
     },
     "metadata": {
      "needs_background": "light"
     },
     "output_type": "display_data"
    }
   ],
   "source": [
    "sns.color_palette(\"YlOrBr\",as_cmap=True)\n",
    "plt.figure(figsize=(7,7))\n",
    "sns.heatmap(cdf.corr(),annot=True,yticklabels=True,linewidths=0.5)"
   ]
  },
  {
   "cell_type": "code",
   "execution_count": 11,
   "id": "58adcef6",
   "metadata": {},
   "outputs": [],
   "source": [
    "X=cdf.drop(['CO2EMISSIONS'],axis=1)\n",
    "y=cdf['CO2EMISSIONS']"
   ]
  },
  {
   "cell_type": "code",
   "execution_count": 12,
   "id": "5e1d867d",
   "metadata": {},
   "outputs": [],
   "source": [
    "#train test split\n",
    "from sklearn.model_selection import train_test_split\n",
    "X_train,X_test,y_train,y_test=train_test_split(X,y,test_size=1/3,random_state=0)"
   ]
  },
  {
   "cell_type": "code",
   "execution_count": 13,
   "id": "45b8c207",
   "metadata": {},
   "outputs": [
    {
     "data": {
      "text/plain": [
       "LinearRegression()"
      ]
     },
     "execution_count": 13,
     "metadata": {},
     "output_type": "execute_result"
    }
   ],
   "source": [
    "from sklearn.linear_model import LinearRegression\n",
    "reg=LinearRegression()\n",
    "reg.fit(X_train,y_train)"
   ]
  },
  {
   "cell_type": "code",
   "execution_count": 14,
   "id": "8cc3f574",
   "metadata": {},
   "outputs": [
    {
     "data": {
      "text/plain": [
       "array([334.25034894, 210.73696073, 218.197186  , 229.13534245,\n",
       "       194.13210443, 298.53801518, 210.63500184, 265.29788208,\n",
       "       207.90114167, 321.16726332, 282.07053405, 385.49240148,\n",
       "       224.93153666, 291.79154963, 185.60117494, 279.98943172,\n",
       "       353.43170289, 206.67758166, 254.48982081, 380.92023627,\n",
       "       196.73630097, 228.06279924, 250.97858665, 218.95347526,\n",
       "       176.68403737, 262.51936736, 268.46929248, 362.64016077,\n",
       "       289.99883927, 162.67485103, 337.92937877, 224.03661979,\n",
       "       287.23015522, 243.76263369, 196.73630097, 194.73325368,\n",
       "       313.07389576, 214.2673672 , 224.28942454, 250.95088776,\n",
       "       192.85325   , 191.13060299, 207.67805159, 186.63787034,\n",
       "       311.4702608 , 200.69583444, 231.38424044, 188.11634254,\n",
       "       391.416936  , 372.79523577, 321.44967352, 324.74802007,\n",
       "       271.71929866, 167.01885695, 218.12282264, 188.11634254,\n",
       "       295.95500088, 180.65823642, 255.33954238, 204.44933099,\n",
       "       200.43248732, 208.73592922, 212.93761587, 362.64016077,\n",
       "       260.45038579, 303.84435315, 330.3501356 , 290.38249667,\n",
       "       199.31089206, 161.6105601 , 318.16355108, 225.5160104 ,\n",
       "       325.97212084, 347.78565037, 317.22038549, 211.85013278,\n",
       "       269.93071151, 193.28237701, 216.86743467, 187.68510225,\n",
       "       191.51497209, 256.78189832, 182.7251047 , 309.49241559,\n",
       "       344.83282333, 250.68965978, 190.44867124, 184.00808235,\n",
       "       357.52079078, 302.70147815, 254.01191019, 206.32070473,\n",
       "       235.37348273, 389.46457889, 338.21830564, 339.61388789,\n",
       "       193.01050916, 241.60021981, 383.65409644, 257.49141975,\n",
       "       197.52231076, 313.39904224, 166.1479473 , 183.49405547,\n",
       "       197.34598265, 193.46081254, 201.34365402, 269.83727921,\n",
       "       193.74121283, 307.32304766, 201.99798439, 214.70703071,\n",
       "       265.41890992, 281.90273838, 314.10215623, 270.24082061,\n",
       "       307.55749516, 251.12731337, 350.89827554, 195.65093117,\n",
       "       260.87951279, 196.81278348, 354.34727295, 160.93362914,\n",
       "       188.11634254, 285.08919201, 289.58595037, 294.23795211,\n",
       "       267.87437973, 260.45891237, 246.13109035, 303.67645412,\n",
       "       194.05132778, 167.49676172, 390.51843082, 343.93671159,\n",
       "       268.8834796 , 160.50390471, 205.22469506, 228.11016451,\n",
       "       288.79032249, 196.73630097, 389.46457889, 339.61388789,\n",
       "       195.79102795, 196.81919677, 263.46464038, 332.18337729,\n",
       "       312.3879383 , 179.51985643, 188.11634254, 255.01036433,\n",
       "       180.40543166, 244.91394363, 311.71453312, 251.86856525,\n",
       "       278.05369623, 209.77674783, 330.3374858 , 250.00561474,\n",
       "       187.09670616, 204.37496763, 188.06957471, 232.46411536,\n",
       "       249.95895026, 197.39275049, 291.9849309 , 189.7837985 ,\n",
       "       367.34587854, 385.59657116, 255.38631021, 267.84477428,\n",
       "       250.26694607, 316.28153163, 288.64561562, 265.89893382,\n",
       "       261.50826342, 250.03331363, 189.7837985 , 325.74490169,\n",
       "       317.02930016, 187.61285218, 317.7324083 , 195.65093117,\n",
       "       302.94943628, 279.61506423, 201.28634382, 324.67648169,\n",
       "       189.7837985 , 303.13271258, 262.45353644, 260.15091656,\n",
       "       248.07693081, 240.67612902, 213.76827435, 290.47033073,\n",
       "       236.72512213, 212.6742746 , 228.1428642 , 317.7324083 ,\n",
       "       261.7121812 , 217.35387187, 232.73799313, 332.3023952 ,\n",
       "       292.95339608, 292.37993986, 274.13038823, 253.09423269,\n",
       "       343.32914319, 200.91892453, 210.14856464, 193.74121283,\n",
       "       189.7837985 , 187.61285218, 271.71929866, 322.72009888,\n",
       "       252.10018191, 213.73215224, 182.35127212, 290.57228962,\n",
       "       398.47624984, 174.24121735, 208.60223988, 204.88900036,\n",
       "       351.92351602, 194.10010554, 249.04127277, 254.80644656,\n",
       "       251.71983853, 185.56092376, 214.51805281, 255.10591579,\n",
       "       301.57704618, 189.67972047, 184.19505032, 371.14560217,\n",
       "       250.06090915, 441.31641647, 239.81163266, 257.59549778,\n",
       "       220.76965794, 224.8884605 , 263.26703254, 262.55549533,\n",
       "       184.64324627, 317.7324083 , 303.62484553, 267.87437973,\n",
       "       343.32914319, 275.61087621, 218.79823774, 184.84928319,\n",
       "       214.58388959, 245.24111175, 252.81383827, 201.6878753 ,\n",
       "       257.94172899, 220.64852675, 213.76175769, 214.72620302,\n",
       "       312.3879383 , 213.76175769, 229.08162056, 206.48860376,\n",
       "       394.12309728, 205.54333074, 224.33048492, 252.10018191,\n",
       "       219.70325373, 195.78260473, 209.7555656 , 205.76642082,\n",
       "       324.74802007, 414.89150819, 313.07389576, 238.11016788,\n",
       "       248.24472647, 219.93900532, 389.4519291 , 198.70332952,\n",
       "       245.30694853, 306.35017911, 177.55054366, 284.61742624,\n",
       "       213.90847449, 216.86743467, 295.93794186, 183.03310051,\n",
       "       354.34727295, 249.08804061, 352.97727044, 303.97602671,\n",
       "       212.06670621, 210.63500184, 374.89047463, 213.05874706,\n",
       "       200.98476131, 202.12753881, 362.64016077, 246.17785819,\n",
       "       362.64016077, 254.75967872, 217.48765871, 220.97270984,\n",
       "       183.4643408 , 286.48027339, 192.51553952, 268.8834796 ,\n",
       "       199.48722016, 336.13025512, 205.37543171, 198.8052884 ,\n",
       "       230.03542602, 237.62363317, 291.25992298, 271.00564817,\n",
       "       348.29169142, 259.5327083 , 257.02617064, 300.57940709,\n",
       "       237.71874137, 219.31878127, 301.62381402, 336.61027317,\n",
       "       206.95586865, 261.4976177 , 193.98337771, 371.14560217,\n",
       "       229.13534245, 362.64016077, 208.93142378, 203.80151142,\n",
       "       251.1484956 , 199.89928815, 204.52369436, 210.8983431 ,\n",
       "       401.59184914, 398.47624984, 302.94943628, 320.01585587,\n",
       "       193.74121283, 199.57212003, 339.0319051 , 260.62670804,\n",
       "       223.34415152, 258.77440325, 272.52437154, 216.30663996,\n",
       "       240.67612902, 295.93794186, 240.67612902, 272.61780385,\n",
       "       300.46397749, 308.58126061, 185.84343733, 186.00270642])"
      ]
     },
     "execution_count": 14,
     "metadata": {},
     "output_type": "execute_result"
    }
   ],
   "source": [
    "y_pred=reg.predict(X_test)\n",
    "y_pred"
   ]
  },
  {
   "cell_type": "code",
   "execution_count": 15,
   "id": "6c7f7de9",
   "metadata": {},
   "outputs": [
    {
     "name": "stdout",
     "output_type": "stream",
     "text": [
      "r2score 0.8426468641660053\n"
     ]
    }
   ],
   "source": [
    "from sklearn.metrics import r2_score\n",
    "print(\"r2score\",r2_score(y_test,y_pred))"
   ]
  },
  {
   "cell_type": "code",
   "execution_count": null,
   "id": "f6223632",
   "metadata": {},
   "outputs": [],
   "source": []
  }
 ],
 "metadata": {
  "kernelspec": {
   "display_name": "Python 3 (ipykernel)",
   "language": "python",
   "name": "python3"
  },
  "language_info": {
   "codemirror_mode": {
    "name": "ipython",
    "version": 3
   },
   "file_extension": ".py",
   "mimetype": "text/x-python",
   "name": "python",
   "nbconvert_exporter": "python",
   "pygments_lexer": "ipython3",
   "version": "3.9.12"
  }
 },
 "nbformat": 4,
 "nbformat_minor": 5
}
